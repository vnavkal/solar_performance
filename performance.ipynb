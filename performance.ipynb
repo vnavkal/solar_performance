{
 "cells": [
  {
   "cell_type": "code",
   "execution_count": 5,
   "metadata": {
    "autoscroll": "json-false",
    "collapsed": false,
    "ein.tags": [
     "worksheet-0"
    ],
    "slideshow": {
     "slide_type": "-"
    }
   },
   "outputs": [],
   "source": [
    "\"\"\"Import libraries, read data\"\"\" \n",
    "\n",
    "import itertools\n",
    "import pandas as pd\n",
    "import numpy as np\n",
    "from matplotlib import pyplot as plt\n",
    "from scipy.stats import ttest_ind\n",
    "import statsmodels.formula.api as smf\n",
    "import statsmodels.api as sm\n",
    "\n",
    "d = pd.read_csv('data/datasci_takehome.csv')\n",
    "d['performance_ratio'] = d['correctedkwh'] / d['expectedkwh']\n",
    "\n",
    "all_vintages = d['vintage'].unique()"
   ]
  },
  {
   "cell_type": "markdown",
   "metadata": {
    "ein.tags": [
     "worksheet-0"
    ],
    "slideshow": {
     "slide_type": "-"
    }
   },
   "source": [
    "<center><h1>kWh Analytics Project</h1></center>"
   ]
  },
  {
   "cell_type": "markdown",
   "metadata": {
    "ein.tags": [
     "worksheet-0"
    ],
    "slideshow": {
     "slide_type": "-"
    }
   },
   "source": [
    "<center><h3>Viraj Navkal</h3></center>"
   ]
  },
  {
   "cell_type": "markdown",
   "metadata": {
    "ein.tags": [
     "worksheet-0"
    ],
    "slideshow": {
     "slide_type": "-"
    }
   },
   "source": [
    "<h2>Introduction</h2>\n",
    "I found that vintage C has a significantly worse performance ratio than vintages A and B, but I could not find strong evidence that vintages A and B are different.\n",
    "\n",
    "I have separated my analysis into three sections:\n",
    "1. The \"Exploration\" section explains the preliminary analysis I did, to form hypotheses and get a sense of how the data looked.\n",
    "2. The \"Testing all variables simultaneously\" section describes the method I used to reach my conclusion.\n",
    "3. The \"Remarks\" section at the end has some notes about my approach and possible alternative approaches."
   ]
  },
  {
   "cell_type": "markdown",
   "metadata": {
    "ein.tags": [
     "worksheet-0"
    ],
    "slideshow": {
     "slide_type": "-"
    }
   },
   "source": [
    "<h2>1. Exploration</h2>"
   ]
  },
  {
   "cell_type": "markdown",
   "metadata": {
    "ein.tags": [
     "worksheet-0"
    ],
    "slideshow": {
     "slide_type": "-"
    }
   },
   "source": [
    "<h4>$t$-test</h4>"
   ]
  },
  {
   "cell_type": "markdown",
   "metadata": {
    "ein.tags": [
     "worksheet-0"
    ],
    "slideshow": {
     "slide_type": "-"
    }
   },
   "source": [
    "One of the first things I checked was the two-sample $t$-test values for each pair of vintages.  They suggested that vintages A and B are not too different from each other, but vintage C is different from both."
   ]
  },
  {
   "cell_type": "code",
   "execution_count": 6,
   "metadata": {
    "autoscroll": "json-false",
    "collapsed": false,
    "ein.tags": [
     "worksheet-0"
    ],
    "slideshow": {
     "slide_type": "-"
    }
   },
   "outputs": [
    {
     "name": "stdout",
     "output_type": "stream",
     "text": [
      "p-value of 2-sample t-statistic comparing vintage A and B is 0.30858421813302167\n",
      "p-value of 2-sample t-statistic comparing vintage A and C is 0.0006631157685030222\n",
      "p-value of 2-sample t-statistic comparing vintage B and C is 1.455243512792677e-06\n"
     ]
    }
   ],
   "source": [
    "for vintage_0, vintage_1 in itertools.combinations(all_vintages, 2):\n",
    "    t_stat_result = ttest_ind(\n",
    "        d[d['vintage']==vintage_0]['performance_ratio'],\n",
    "        d[d['vintage']==vintage_1]['performance_ratio']\n",
    "    )\n",
    "    print('p-value of 2-sample t-statistic comparing vintage {0} and {1} is {2}'.\n",
    "          format(vintage_0, vintage_1, t_stat_result.pvalue))"
   ]
  },
  {
   "cell_type": "markdown",
   "metadata": {
    "ein.tags": [
     "worksheet-0"
    ],
    "slideshow": {
     "slide_type": "-"
    }
   },
   "source": [
    "<h4>Effect of month</h4>"
   ]
  },
  {
   "cell_type": "markdown",
   "metadata": {
    "ein.tags": [
     "worksheet-0"
    ],
    "slideshow": {
     "slide_type": "-"
    }
   },
   "source": [
    "The $t$-statistic values could be quite misleading if the `month` and `vintage` variables are not independent.  For example, vintage C might appear different from the other vintages entirely because it was observed during different times of the year.  And indeed, the two variables are dependent -- vintages A and B were observed predominantly in the later months, as the following plot shows."
   ]
  },
  {
   "cell_type": "code",
   "execution_count": 7,
   "metadata": {
    "autoscroll": "json-false",
    "collapsed": false,
    "ein.tags": [
     "worksheet-0"
    ],
    "slideshow": {
     "slide_type": "-"
    }
   },
   "outputs": [
    {
     "data": {
      "image/png": "[encoded data removed]",
      "text/plain": [
       "<matplotlib.figure.Figure at 0x7f481b96ceb8>"
      ]
     },
     "metadata": {},
     "output_type": "display_data"
    }
   ],
   "source": [
    "fig, axes = plt.subplots(3, 1, sharex='col', figsize=(5, 10))\n",
    "for i, vintage in enumerate(all_vintages):\n",
    "    d[d['vintage']==vintage]['month'].hist(bins=12, ax=axes[i], normed=True)\n",
    "    axes[i].set_title('Vintage ' + vintage)\n",
    "    axes[i].set_ylabel('relative frequency')\n",
    "axes[-1].set_xlim((1, 12))\n",
    "axes[-1].set_xlabel('month')\n",
    "\n",
    "plt.show()"
   ]
  },
  {
   "cell_type": "markdown",
   "metadata": {
    "ein.tags": [
     "worksheet-0"
    ],
    "slideshow": {
     "slide_type": "-"
    }
   },
   "source": [
    "So it's important to consider both variables simultaneously when testing whether the different vintages are different."
   ]
  },
  {
   "cell_type": "markdown",
   "metadata": {
    "ein.tags": [
     "worksheet-0"
    ],
    "slideshow": {
     "slide_type": "-"
    }
   },
   "source": [
    "<h2>2. Testing all variables simultaneously</h2>"
   ]
  },
  {
   "cell_type": "markdown",
   "metadata": {
    "ein.tags": [
     "worksheet-0"
    ],
    "slideshow": {
     "slide_type": "-"
    }
   },
   "source": [
    "In order to compare the different vintages' performances after accounting for seasonal differences, I trained a model that included both `vintage` and `month` variables.  The model I chose to use is a GLM model with Gamma distribution for residuals, which is a reasonable choice when the response variable is nonnegative.  Here are the results of the model."
   ]
  },
  {
   "cell_type": "code",
   "execution_count": 8,
   "metadata": {
    "autoscroll": "json-false",
    "collapsed": false,
    "ein.tags": [
     "worksheet-0"
    ],
    "slideshow": {
     "slide_type": "-"
    }
   },
   "outputs": [
    {
     "data": {
      "text/plain": [
       "<class 'statsmodels.iolib.summary.Summary'>\n",
       "\"\"\"\n",
       "                 Generalized Linear Model Regression Results                  \n",
       "==============================================================================\n",
       "Dep. Variable:      performance_ratio   No. Observations:                14069\n",
       "Model:                            GLM   Df Residuals:                    14055\n",
       "Model Family:                   Gamma   Df Model:                           13\n",
       "Link Function:          inverse_power   Scale:                 0.0181091135819\n",
       "Method:                          IRLS   Log-Likelihood:                 1529.9\n",
       "Date:                Sun, 16 Oct 2016   Deviance:                       489.37\n",
       "Time:                        15:52:59   Pearson chi2:                     255.\n",
       "No. Iterations:                     6                                         \n",
       "==================================================================================\n",
       "                     coef    std err          z      P>|z|      [95.0% Conf. Int.]\n",
       "----------------------------------------------------------------------------------\n",
       "Intercept          0.9507      0.006    149.857      0.000         0.938     0.963\n",
       "vintage[T.B]       0.0063      0.005      1.330      0.184        -0.003     0.016\n",
       "vintage[T.C]       0.0177      0.005      3.784      0.000         0.009     0.027\n",
       "C(month)[T.2]     -0.0022      0.006     -0.352      0.725        -0.014     0.010\n",
       "C(month)[T.3]      0.0031      0.006      0.511      0.609        -0.009     0.015\n",
       "C(month)[T.4]      0.0060      0.006      1.007      0.314        -0.006     0.018\n",
       "C(month)[T.5]      0.0012      0.006      0.197      0.844        -0.010     0.013\n",
       "C(month)[T.6]      0.0069      0.006      1.181      0.238        -0.005     0.018\n",
       "C(month)[T.7]      0.0022      0.006      0.387      0.699        -0.009     0.014\n",
       "C(month)[T.8]      0.0052      0.006      0.908      0.364        -0.006     0.017\n",
       "C(month)[T.9]      0.0043      0.006      0.757      0.449        -0.007     0.016\n",
       "C(month)[T.10]     0.0029      0.006      0.517      0.605        -0.008     0.014\n",
       "C(month)[T.11]     0.0107      0.006      1.891      0.059        -0.000     0.022\n",
       "C(month)[T.12]     0.0060      0.006      1.069      0.285        -0.005     0.017\n",
       "==================================================================================\n",
       "\"\"\""
      ]
     },
     "execution_count": 8,
     "metadata": {},
     "output_type": "execute_result"
    }
   ],
   "source": [
    "model = smf.GLM.from_formula(\n",
    "    formula='performance_ratio ~ vintage + C(month)',\n",
    "    family=sm.families.Gamma(),\n",
    "    data=d\n",
    ")\n",
    "result = model.fit()\n",
    "result.summary()"
   ]
  },
  {
   "cell_type": "markdown",
   "metadata": {
    "ein.tags": [
     "worksheet-0"
    ],
    "slideshow": {
     "slide_type": "-"
    }
   },
   "source": [
    "Of interest are the `P>|z|` values in the `vintage[T.B]` and `vintage[T.C]` rows.  These numbers indicate p-values associated with the differences in performance between these two vintages and the vintage A panels.  The small p-value for vintage C (zero to three decimal places) indicates it does have significantly different performance from vintage A.  And the large p-value for vintage B (0.184) indicates that it does not have significantly different performance from vintage A."
   ]
  },
  {
   "cell_type": "markdown",
   "metadata": {
    "ein.tags": [
     "worksheet-0"
    ],
    "slideshow": {
     "slide_type": "-"
    }
   },
   "source": [
    "<h2>3. Remarks</h2>"
   ]
  },
  {
   "cell_type": "markdown",
   "metadata": {
    "ein.tags": [
     "worksheet-0"
    ],
    "slideshow": {
     "slide_type": "-"
    }
   },
   "source": [
    "<ol>\n",
    "<li>\n",
    "Keep in mind that the larger `vintage[T.C]` coefficient in the table of model results indicates that vintage C actually has a _lower_ performance ratio.  The canonical link function for the Gamma GLM model is the reciprocal function, so the larger coefficient results in vintage-C measurements getting a smaller predicted performance ratio.\n",
    "</li>\n",
    "<li>\n",
    "In the model, I treated `month` as a categorical variable.  This would be appropriate if performance ratio did not depend on month in a continuous way, which might be true if weather patterns varied dramatically between adjacent months.  I also separately tried substituting a variable like `cosine(fraction of year since winter solstice)` for the categorical `month` variable; this could potentially improve model performance if `month` were important only to the extent that it indicates the height of the sun in the sky.  This variable was not predictive and did not change the conclusion.\n",
    "</li>\n",
    "<li>\n",
    "If `month` and `vintage` were both predictive of performance, there could be some freedom in how much of the predictive power we credit to each variable.  (Imagine, for example, the case when the variables are very highly correlated and both very predictive of performance.)  If we wanted to measure how much of the differences in performance could be explained by _only_ differences in vintage and not differences in month, we could have used a two-step model training procedure.  In the first step, we would train a \"base model\" predicting performance ratio as a function of `month`.  In the second step, we would train a \"relative model\" targeting performance ratio, using `vintage` as the single independent variable, and taking the predictions of the \"base model\" as an offset.  This procedure would allocate as much of the \"common predictive power\" to month as possible.\n",
    "</li>\n",
    "</ol>"
   ]
  }
 ],
 "metadata": {
  "anaconda-cloud": {},
  "kernelspec": {
   "display_name": "Python [conda root]",
   "language": "python",
   "name": "conda-root-py"
  },
  "language_info": {
   "codemirror_mode": {
    "name": "ipython",
    "version": 3
   },
   "file_extension": ".py",
   "mimetype": "text/x-python",
   "name": "python",
   "nbconvert_exporter": "python",
   "pygments_lexer": "ipython3",
   "version": "3.5.2"
  },
  "name": "performance.ipynb"
 },
 "nbformat": 4,
 "nbformat_minor": 1
}
